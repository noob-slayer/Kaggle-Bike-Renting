{
 "cells": [
  {
   "cell_type": "code",
   "execution_count": 1,
   "metadata": {
    "collapsed": true
   },
   "outputs": [],
   "source": [
    "#importing essential python libraries\n",
    "import sys\n",
    "import pandas as pd\n",
    "import numpy as np\n",
    "import sklearn\n",
    "from sklearn.ensemble import RandomForestClassifier\n"
   ]
  },
  {
   "cell_type": "code",
   "execution_count": 2,
   "metadata": {
    "collapsed": false
   },
   "outputs": [
    {
     "name": "stdout",
     "output_type": "stream",
     "text": [
      "<class 'pandas.core.frame.DataFrame'>\n",
      "RangeIndex: 10886 entries, 0 to 10885\n",
      "Data columns (total 12 columns):\n",
      "datetime      10886 non-null object\n",
      "season        10886 non-null int64\n",
      "holiday       10886 non-null int64\n",
      "workingday    10886 non-null int64\n",
      "weather       10886 non-null int64\n",
      "temp          10886 non-null float64\n",
      "atemp         10886 non-null float64\n",
      "humidity      10886 non-null int64\n",
      "windspeed     10886 non-null float64\n",
      "casual        10886 non-null int64\n",
      "registered    10886 non-null int64\n",
      "count         10886 non-null int64\n",
      "dtypes: float64(3), int64(8), object(1)\n",
      "memory usage: 1020.6+ KB\n",
      "None\n"
     ]
    }
   ],
   "source": [
    "#readind and loading file\n",
    "loc_train='/home/siddharth/Documents/Bike Renting/train.csv'\n",
    "loc_test='/home/siddharth/Documents/Bike Renting/test.csv'\n",
    "train=pd.read_csv(loc_train)\n",
    "test=pd.read_csv(loc_test)\n",
    "print (train.info())\n",
    "target=train['count']\n",
    "casual=train.casual\n",
    "registered=train.registered\n",
    "datetime=train.datetime\n",
    "\n",
    "\n",
    "train.drop('count',axis=1, inplace=True)\n",
    "train.drop('casual',axis=1,inplace=True)\n",
    "train.drop('registered',axis=1,inplace=True)\n",
    "\n",
    "\n",
    "combined=train.append(test)\n",
    "combined.reset_index(inplace=True)\n",
    "combined.drop('index',axis=1,inplace=True)\n",
    "\n"
   ]
  },
  {
   "cell_type": "code",
   "execution_count": 3,
   "metadata": {
    "collapsed": false,
    "scrolled": false
   },
   "outputs": [
    {
     "name": "stdout",
     "output_type": "stream",
     "text": [
      "(10886, 9)\n",
      "(6493, 9)\n"
     ]
    }
   ],
   "source": [
    "#All columns are numeric. No missing data present.\n",
    "#12 columns in total\n",
    "#Season,holiday,workingday,weather,temp,atemp,humidity,windspeed,casual,registered requires no formatting.\n",
    "\n",
    "\n",
    "print (train.shape)\n",
    "print (test.shape)"
   ]
  },
  {
   "cell_type": "code",
   "execution_count": 4,
   "metadata": {
    "collapsed": false
   },
   "outputs": [
    {
     "name": "stdout",
     "output_type": "stream",
     "text": [
      "   datetime  season  holiday  workingday  weather  temp   atemp  humidity  \\\n",
      "0         0       1        0           0        1  9.84  14.395        81   \n",
      "1         1       1        0           0        1  9.02  13.635        80   \n",
      "\n",
      "   windspeed  \n",
      "0        0.0  \n",
      "1        0.0  \n"
     ]
    }
   ],
   "source": [
    "combined['datetime']=combined['datetime'].map(lambda dtime: dtime.split(' ')[1].split(':')[0])\n",
    "combined['datetime']=combined['datetime'].astype(int)\n",
    "print (combined.head(2))"
   ]
  },
  {
   "cell_type": "code",
   "execution_count": 5,
   "metadata": {
    "collapsed": false
   },
   "outputs": [],
   "source": [
    "combined.head()\n",
    "\n",
    "\n",
    "train_new=combined[:10886]\n",
    "test_new=combined[10886:]\n",
    "\n",
    "#print (combined.info())\n",
    "#print (train_new.info())\n",
    "#print (test_new.info())\n"
   ]
  },
  {
   "cell_type": "code",
   "execution_count": 6,
   "metadata": {
    "collapsed": false
   },
   "outputs": [
    {
     "name": "stdout",
     "output_type": "stream",
     "text": [
      "(10886,)\n"
     ]
    },
    {
     "data": {
      "text/plain": [
       "0         16\n",
       "1         40\n",
       "2         32\n",
       "3         13\n",
       "4          1\n",
       "5          1\n",
       "6          2\n",
       "7          3\n",
       "8          8\n",
       "9         14\n",
       "10        36\n",
       "11        56\n",
       "12        84\n",
       "13        94\n",
       "14       106\n",
       "15       110\n",
       "16        93\n",
       "17        67\n",
       "18        35\n",
       "19        37\n",
       "20        36\n",
       "21        34\n",
       "22        28\n",
       "23        39\n",
       "24        17\n",
       "25        17\n",
       "26         9\n",
       "27         6\n",
       "28         3\n",
       "29         2\n",
       "        ... \n",
       "10856    525\n",
       "10857    353\n",
       "10858    268\n",
       "10859    168\n",
       "10860    132\n",
       "10861     81\n",
       "10862     41\n",
       "10863     15\n",
       "10864      3\n",
       "10865      5\n",
       "10866      7\n",
       "10867     31\n",
       "10868    112\n",
       "10869    363\n",
       "10870    678\n",
       "10871    317\n",
       "10872    164\n",
       "10873    200\n",
       "10874    236\n",
       "10875    213\n",
       "10876    218\n",
       "10877    237\n",
       "10878    334\n",
       "10879    562\n",
       "10880    569\n",
       "10881    336\n",
       "10882    241\n",
       "10883    168\n",
       "10884    129\n",
       "10885     88\n",
       "Name: count, dtype: int64"
      ]
     },
     "execution_count": 6,
     "metadata": {},
     "output_type": "execute_result"
    }
   ],
   "source": [
    "print (target.shape)\n",
    "target"
   ]
  },
  {
   "cell_type": "code",
   "execution_count": 7,
   "metadata": {
    "collapsed": false
   },
   "outputs": [
    {
     "data": {
      "text/plain": [
       "RandomForestClassifier(bootstrap=True, class_weight=None, criterion='gini',\n",
       "            max_depth=None, max_features='auto', max_leaf_nodes=None,\n",
       "            min_impurity_split=1e-07, min_samples_leaf=1,\n",
       "            min_samples_split=2, min_weight_fraction_leaf=0.0,\n",
       "            n_estimators=50, n_jobs=1, oob_score=False, random_state=None,\n",
       "            verbose=0, warm_start=False)"
      ]
     },
     "execution_count": 7,
     "metadata": {},
     "output_type": "execute_result"
    }
   ],
   "source": [
    "clf=RandomForestClassifier(n_estimators=50)\n",
    "clf.fit(train_new,target)\n"
   ]
  },
  {
   "cell_type": "code",
   "execution_count": 8,
   "metadata": {
    "collapsed": true
   },
   "outputs": [],
   "source": [
    "pred=clf.predict(test_new)"
   ]
  },
  {
   "cell_type": "code",
   "execution_count": 9,
   "metadata": {
    "collapsed": true
   },
   "outputs": [],
   "source": [
    "output=pd.DataFrame()\n",
    "output['datetime']=test['datetime']\n",
    "output['count']=pred\n",
    "output.to_csv('/home/siddharth/Documents/Bike Renting/output.csv',index=False)"
   ]
  },
  {
   "cell_type": "code",
   "execution_count": null,
   "metadata": {
    "collapsed": true
   },
   "outputs": [],
   "source": []
  },
  {
   "cell_type": "code",
   "execution_count": null,
   "metadata": {
    "collapsed": true
   },
   "outputs": [],
   "source": []
  }
 ],
 "metadata": {
  "kernelspec": {
   "display_name": "Python 3",
   "language": "python",
   "name": "python3"
  },
  "language_info": {
   "codemirror_mode": {
    "name": "ipython",
    "version": 3
   },
   "file_extension": ".py",
   "mimetype": "text/x-python",
   "name": "python",
   "nbconvert_exporter": "python",
   "pygments_lexer": "ipython3",
   "version": "3.6.0"
  }
 },
 "nbformat": 4,
 "nbformat_minor": 2
}
